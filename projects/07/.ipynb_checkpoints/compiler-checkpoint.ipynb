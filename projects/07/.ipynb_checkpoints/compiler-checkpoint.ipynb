{
 "cells": [
  {
   "cell_type": "code",
   "execution_count": 3,
   "metadata": {
    "collapsed": false
   },
   "outputs": [
    {
     "ename": "IOError",
     "evalue": "[Errno 2] No such file or directory: '-f'",
     "output_type": "error",
     "traceback": [
      "\u001b[0;31m---------------------------------------------------------------------------\u001b[0m",
      "\u001b[0;31mIOError\u001b[0m                                   Traceback (most recent call last)",
      "\u001b[0;32m<ipython-input-3-981b970e7833>\u001b[0m in \u001b[0;36m<module>\u001b[0;34m()\u001b[0m\n\u001b[1;32m      6\u001b[0m \u001b[0moutputname\u001b[0m \u001b[0;34m=\u001b[0m \u001b[0mos\u001b[0m\u001b[0;34m.\u001b[0m\u001b[0mpath\u001b[0m\u001b[0;34m.\u001b[0m\u001b[0mjoin\u001b[0m\u001b[0;34m(\u001b[0m\u001b[0mhead\u001b[0m\u001b[0;34m,\u001b[0m \u001b[0mtail\u001b[0m\u001b[0;34m[\u001b[0m\u001b[0;34m:\u001b[0m\u001b[0mtail\u001b[0m\u001b[0;34m.\u001b[0m\u001b[0mfind\u001b[0m\u001b[0;34m(\u001b[0m\u001b[0;34m'.'\u001b[0m\u001b[0;34m)\u001b[0m\u001b[0;34m]\u001b[0m \u001b[0;34m+\u001b[0m \u001b[0;34m'.asm'\u001b[0m\u001b[0;34m)\u001b[0m\u001b[0;34m\u001b[0m\u001b[0m\n\u001b[1;32m      7\u001b[0m \u001b[0;34m\u001b[0m\u001b[0m\n\u001b[0;32m----> 8\u001b[0;31m \u001b[0;32mwith\u001b[0m \u001b[0mopen\u001b[0m\u001b[0;34m(\u001b[0m\u001b[0minputname\u001b[0m\u001b[0;34m,\u001b[0m \u001b[0;34m'r'\u001b[0m\u001b[0;34m)\u001b[0m \u001b[0;32mas\u001b[0m \u001b[0mf\u001b[0m\u001b[0;34m:\u001b[0m\u001b[0;34m\u001b[0m\u001b[0m\n\u001b[0m\u001b[1;32m      9\u001b[0m     \u001b[0mlines\u001b[0m \u001b[0;34m=\u001b[0m \u001b[0mf\u001b[0m\u001b[0;34m.\u001b[0m\u001b[0mreadlines\u001b[0m\u001b[0;34m(\u001b[0m\u001b[0;34m)\u001b[0m\u001b[0;34m\u001b[0m\u001b[0m\n\u001b[1;32m     10\u001b[0m \u001b[0;32mwith\u001b[0m \u001b[0mopen\u001b[0m\u001b[0;34m(\u001b[0m\u001b[0moutputname\u001b[0m\u001b[0;34m,\u001b[0m \u001b[0;34m'w'\u001b[0m\u001b[0;34m)\u001b[0m \u001b[0;32mas\u001b[0m \u001b[0mg\u001b[0m\u001b[0;34m:\u001b[0m\u001b[0;34m\u001b[0m\u001b[0m\n",
      "\u001b[0;31mIOError\u001b[0m: [Errno 2] No such file or directory: '-f'"
     ]
    }
   ],
   "source": [
    "#!/usr/bin/python\n",
    "import sys\n",
    "import os\n",
    "inputname = sys.argv[1]\n",
    "head, tail = os.path.split(inputname)\n",
    "name = tail[:tail.find('.')]\n",
    "outputname = os.path.join(head, name + '.asm')\n",
    "    \n",
    "with open(inputname, 'r') as f:\n",
    "    lines = f.readlines()\n",
    "with open(outputname, 'w') as g:\n",
    "    for line in lines:\n",
    "        g.write(process(line))"
   ]
  },
  {
   "cell_type": "code",
   "execution_count": null,
   "metadata": {
    "collapsed": true
   },
   "outputs": [],
   "source": [
    "memory_dict = {'local':'1', 'argument':'ARG', 'this':'THIS', \n",
    "               'that':'THAT', 'static':'', 'constant':'', 'pointer':'', 'temp':'5'}\n"
   ]
  },
  {
   "cell_type": "code",
   "execution_count": 44,
   "metadata": {
    "collapsed": false
   },
   "outputs": [],
   "source": [
    "def process(line):\n",
    "    if line.find('\\\\') > 0:\n",
    "        line = line[:line.find('\\\\')]\n",
    "    arglist = line.split()\n",
    "    if len(arglist) == 0:\n",
    "        return ''\n",
    "    elif len(arglist) == 1:\n",
    "        pass\n",
    "    else:\n",
    "        assert len(arglist) == 3, line\n",
    "        arg1, arg2, arg3 = arglist\n",
    "    if arg2 == 'constant':\n",
    "        assert arg1 == 'push', \"Error: cannot write into a constant\"\n",
    "        x = '@' + arg3 + '\\n D=M @0 \\n A=M \\n M=D \\n' +\\\n",
    "        '@0 \\n M=M+1 \\n' \n",
    "            #*SP = arg3\n",
    "            #SP++\n",
    "            \n",
    "    #static is a memory segment from 16 to 255\n",
    "    elif arg2 == 'static':\n",
    "        if arg1 == 'pop':\n",
    "            x = '@0 \\n M=M-1 \\n' + \\\n",
    "                'A=M \\n D=M \\n' + \\\n",
    "                '@' + name + '.' + arg3 + '\\n M=D \\n'\n",
    "                #SP--\n",
    "                #D = stack.pop()\n",
    "                #Foo.5 = D\n",
    "        else:\n",
    "            assert arg1 == 'push'\n",
    "            x = '@' + name + '.' + arg3 + '\\n D=M \\n'+\\\n",
    "                '@0 \\n A=M \\n M=D \\n'+\\\n",
    "                '@0 \\n M=M+1 \\n' \n",
    "                 #D = Foo.5\n",
    "                #*SP = D\n",
    "                #SP++\n",
    "    #temp is a constant memory segment from 5 to 12\n",
    "    elif arg2 == 'temp': \n",
    "        if arg1 == 'pop':\n",
    "            x = '@0 \\n M=M-1 \\n' + \\\n",
    "            'A=M \\n D=M \\n' +\\\n",
    "            '@' + arg3 + '\\n A=A+1 \\n A=A+1 \\n A=A+1 \\n A=A+1 \\n A=A+1 \\n' + \\\n",
    "            'M=D \\n'\n",
    "            #*addr = D\n",
    "            #SP--\n",
    "            #D = stack.pop()\n",
    "            #addr = 5 + arg3\n",
    "        else:\n",
    "            assert arg1 == 'push'\n",
    "            x = '@5 \\n D=A \\n @' + arg3 + '\\n A=A+D \\n' + \\\n",
    "                'D=M \\n @0 \\n A=M \\n M=D \\n'+ \\\n",
    "                '@0 \\n M=M+1 \\n' \n",
    "                #addr = 5 + arg3\n",
    "                #*SP = *addr\n",
    "                #SP++\n",
    "    elif arg2 == 'pointer':\n",
    "        assert arg3 in ['0','1']\n",
    "        if arg1 == 'pop':\n",
    "            x = '@0 \\n M=M-1 \\n' +\\\n",
    "            'A=M \\n D=M \\n' +\\\n",
    "            '@3 \\n A=A+' + arg3 +'\\n' + \\\n",
    "            'M=D \\n' \n",
    "            #SP--\n",
    "            #D = stack.pop()\n",
    "            #addr = 3 + arg3\n",
    "            #*addr = D\n",
    "        else:\n",
    "            assert arg1 == 'push'\n",
    "            x = '@3 \\n D=A \\n @' + arg3 + '\\n A=A+D \\n' + \\\n",
    "                'D=M \\n @0 \\n A=M \\n M=D \\n' + '@0 \\n M=M+1 \\n' \n",
    "                #addr = 3 + arg3\n",
    "                #*SP = *addr\n",
    "                #SP++\n",
    "    else:\n",
    "        memmap = {'local':'1', 'argument':'2', 'this':'3', 'that':'4'}\n",
    "        assert(arg2 in memmap.keys())\n",
    "        ram_adr = memmap[arg2]\n",
    "        if arg1 == 'pop':\n",
    "             x = '@' + arg3 + '\\n D=A \\n @' + ram_adr + ' \\n D=D+M \\n @13 \\n M=D \\n' +\\\n",
    "            '@0 \\n M=M-1 \\n' +\\\n",
    "            'A=M \\n D=M \\n' +\\\n",
    "            '@13 \\n A=M \\n M=D'\n",
    "            #RAM[13] = *LCL + arg3\n",
    "            #SP-- \n",
    "            #D = stack.pop()\n",
    "             # *RAM[13] = D\n",
    "        else:\n",
    "            assert(arg1 == 'push')\n",
    "            x = '@' + arg3 + '\\n D=A \\n @' + ram_adr + ' \\n A=M+D' +\\\n",
    "                'D=M \\n @0 \\n A=M \\n M=D \\n'+\\\n",
    "                '@0 \\n M=M+1 \\n' \n",
    "                #addr = *LCL + arg3\n",
    "                #*SP = *addr\n",
    "                #SP++\n",
    "        \n",
    "        return '\\\\\\\\ ' + line + '\\n' + x"
   ]
  },
  {
   "cell_type": "code",
   "execution_count": 45,
   "metadata": {
    "collapsed": false
   },
   "outputs": [
    {
     "name": "stdout",
     "output_type": "stream",
     "text": [
      "\\\\ pop local 2\n",
      "@2\n",
      " D=A \n",
      " @1 \n",
      " D=D+M \n",
      " @13 \n",
      " M=D \n",
      "@0 \n",
      " M=M-1 \n",
      "A=M \n",
      " D=M \n",
      "@13 \n",
      " A=M \n",
      " M=D\n",
      "False\n"
     ]
    }
   ],
   "source": [
    "command1 = 'pop local 2'\n",
    "print process(command1) \n",
    "print process(command1) == '\\\\ ' + command1 + '\\n addr = LCL + 2 \\n SP-- \\n *addr = *SP \\n'"
   ]
  },
  {
   "cell_type": "code",
   "execution_count": 34,
   "metadata": {
    "collapsed": false
   },
   "outputs": [
    {
     "name": "stdout",
     "output_type": "stream",
     "text": [
      "3\n"
     ]
    }
   ],
   "source": [
    "print(len('pop local 2'.split()))"
   ]
  },
  {
   "cell_type": "code",
   "execution_count": 36,
   "metadata": {
    "collapsed": false
   },
   "outputs": [
    {
     "name": "stdout",
     "output_type": "stream",
     "text": [
      "pop local \n"
     ]
    }
   ],
   "source": [
    "line = 'pop local 2'\n",
    "line = line[:line.find('\\\\')]\n",
    "print line"
   ]
  },
  {
   "cell_type": "code",
   "execution_count": 38,
   "metadata": {
    "collapsed": false
   },
   "outputs": [
    {
     "data": {
      "text/plain": [
       "-1"
      ]
     },
     "execution_count": 38,
     "metadata": {},
     "output_type": "execute_result"
    }
   ],
   "source": [
    "line.find('\\\\')"
   ]
  },
  {
   "cell_type": "code",
   "execution_count": null,
   "metadata": {
    "collapsed": true
   },
   "outputs": [],
   "source": []
  }
 ],
 "metadata": {
  "anaconda-cloud": {},
  "kernelspec": {
   "display_name": "Python [conda root]",
   "language": "python",
   "name": "conda-root-py"
  },
  "language_info": {
   "codemirror_mode": {
    "name": "ipython",
    "version": 2
   },
   "file_extension": ".py",
   "mimetype": "text/x-python",
   "name": "python",
   "nbconvert_exporter": "python",
   "pygments_lexer": "ipython2",
   "version": "2.7.12"
  }
 },
 "nbformat": 4,
 "nbformat_minor": 1
}
