{
 "cells": [
  {
   "cell_type": "code",
   "execution_count": 61,
   "metadata": {},
   "outputs": [],
   "source": [
    "jump_dict = {'null':'000', 'JGT':'001', 'JEQ':'010',\\\n",
    "             'JGE':'011', 'JLT':'100', 'JNE':'101',\\\n",
    "            'JLE':'110', 'JMP':'111'}\n",
    "dest_dict = {'null':'000', 'M':'001', 'D':'010', 'MD':'011',\\\n",
    "             'A':'100', 'AM':'101', 'AD': '110', 'AMD':'111'}\n",
    "comp_dict = {'0':'0101010', '1':'0111111', '-1':'0111010',\\\n",
    "            'D':'0001100', 'A':'0110000', '!D':'0001101', \\\n",
    "             '!A':'0110001', '-D':'0001111', '-A':'0110011',\\\n",
    "            'D+1':'0011111', 'A+1':'0110111', 'D-1':'0001110',\\\n",
    "            'A-1':'0110010', 'D+A':'0000010','D-A':'0010011',\\\n",
    "            'A-D':'0000111', 'D&A':'0000000','D|A':'0010101',\\\n",
    "            'M':'1110000', '!M':'1110001', '-M':'1110011',\\\n",
    "            'M+1':'1110111', 'M-1':'1110010', 'D+M':'1000010',\\\n",
    "            'D-M':'1010011', 'M-D':'1000111', 'D&M':'1000000',\\\n",
    "            'D|M':'1010101','null':'1110000'}\n",
    "predefined_dict = {'SCREEN':'16384', 'KBD':'24576', 'SP':'0',\\\n",
    "                  'LCL':'1', 'ARG':'2', 'THIS':'3', 'THAT':'4',\\\n",
    "                   'R0':'0','R1':'1','R2':'2','R3':'3','R4':'4',\\\n",
    "                  'R5':'5','R6':'6','R7':'7','R8':'8','R9':'9',\\\n",
    "                  'R10':'10', 'R11':'11', 'R12':'12', 'R13':'13',\\\n",
    "                  'R14':'14', 'R15':'15'}"
   ]
  },
  {
   "cell_type": "code",
   "execution_count": 76,
   "metadata": {},
   "outputs": [],
   "source": [
    "#!/usr/bin/python\n",
    "#import sys\n",
    "#inputname = sys.argv[1]\n",
    "import os\n",
    "for inputname in ['max/Max.asm', 'add/Add.asm', 'rect/Rect.asm', 'pong/Pong.asm']:\n",
    "    inputfile = open(inputname, \"r\")\n",
    "    f = inputfile.readlines()\n",
    "    outputname = inputname[inputname.find('/')+1:inputname.find('.')] + '.hack'\n",
    "    outputfile = open(os.path.join('project6/', outputname), \"w\")\n",
    "    #first stage is remove whitespace, deal with labels and variables\n",
    "    variable_dict = dict()\n",
    "    instructions, label_dict = preprocess(f)\n",
    "    #second stage is translate instructions into machine code\n",
    "    for instruction in instructions:\n",
    "        outputfile.write(process(instruction))\n",
    "    \n",
    "    inputfile.close()\n",
    "    outputfile.close()"
   ]
  },
  {
   "cell_type": "code",
   "execution_count": 68,
   "metadata": {
    "collapsed": true
   },
   "outputs": [],
   "source": [
    "import re\n",
    "integer = re.compile('^[0-9]+$')\n",
    "\n",
    "def preprocess(lines):\n",
    "    instr_number = 0\n",
    "    instructions = []\n",
    "    label_dict = {}\n",
    "    for line in lines:\n",
    "        if line.find('//') >= 0:\n",
    "            line = line[:line.find('//')] #remove comments\n",
    "        line = line.replace(\" \", \"\") #remove all whitespace\n",
    "        line = line.replace(\"\\n\", \"\")\n",
    "        line = line.replace('\\r', \"\")\n",
    "        if len(line) == 0:\n",
    "            continue\n",
    "        if line.find('(') >= 0:\n",
    "            if line.find(')') < 0:\n",
    "                print 'ERROR', line\n",
    "                continue\n",
    "            label_dict[line[line.find('(')+1:line.find(')')]] = str(instr_number)\n",
    "        else:\n",
    "            instr_number += 1\n",
    "            instructions.append(line)\n",
    "    return instructions, label_dict"
   ]
  },
  {
   "cell_type": "code",
   "execution_count": 69,
   "metadata": {},
   "outputs": [],
   "source": [
    "def process(line):\n",
    "    if line[0] == '@':\n",
    "        value  = line[1:]\n",
    "        if value in predefined_dict.keys():\n",
    "            value = predefined_dict[value]\n",
    "        if value in label_dict.keys():\n",
    "            value = label_dict[value]\n",
    "        if value in variable_dict.keys():\n",
    "            value = variable_dict[value]\n",
    "        if not integer.match(value) > 0:\n",
    "            variable_dict[value] = str(len(variable_dict) + 16)\n",
    "            value = variable_dict[value]\n",
    "        binary = bin(int(value))[2:]\n",
    "        if (len(binary) > 15):\n",
    "            binary = binary[-15:]\n",
    "        return '0'*(16 - len(binary)) + binary + '\\n'\n",
    "                    \n",
    "    else:\n",
    "        dest = 'null'\n",
    "        jump = 'null'\n",
    "        comp = 'null'\n",
    "        if line.find('=') >= 0:\n",
    "            (dest, comp) = line.split('=')\n",
    "            if comp.find(';') > 0:\n",
    "                comp, jump = comp.split(';')\n",
    "        else:\n",
    "            if line.find(';') >= 0:\n",
    "                comp, jump = line.split(';')\n",
    "            else:\n",
    "                jump = line\n",
    "    return '111' + comp_dict[comp] + dest_dict[dest] + jump_dict[jump] + '\\n'\n",
    "#print(process('@16'))\n",
    "#print(process('M=1'))\n",
    "#print(process('M=D+M'))\n",
    "#print(process('0;JMP'))"
   ]
  },
  {
   "cell_type": "code",
   "execution_count": null,
   "metadata": {
    "collapsed": true
   },
   "outputs": [],
   "source": []
  }
 ],
 "metadata": {
  "anaconda-cloud": {},
  "kernelspec": {
   "display_name": "Python 3",
   "language": "python",
   "name": "python3"
  },
  "language_info": {
   "codemirror_mode": {
    "name": "ipython",
    "version": 3
   },
   "file_extension": ".py",
   "mimetype": "text/x-python",
   "name": "python",
   "nbconvert_exporter": "python",
   "pygments_lexer": "ipython3",
   "version": "3.6.4"
  }
 },
 "nbformat": 4,
 "nbformat_minor": 1
}
